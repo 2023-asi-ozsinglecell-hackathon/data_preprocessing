{
 "cells": [
  {
   "cell_type": "code",
   "execution_count": 1,
   "metadata": {},
   "outputs": [
    {
     "name": "stdout",
     "output_type": "stream",
     "text": [
      "dandelion==0.3.4.dev2 pandas==2.1.0 numpy==1.24.4 matplotlib==3.7.1 networkx==3.1 scipy==1.11.2\n"
     ]
    }
   ],
   "source": [
    "import shutil\n",
    "\n",
    "import dandelion as ddl\n",
    "import pandas as pd\n",
    "\n",
    "from pathlib import Path\n",
    "from tqdm import tqdm\n",
    "\n",
    "ddl.logging.print_header()"
   ]
  },
  {
   "cell_type": "code",
   "execution_count": 2,
   "metadata": {},
   "outputs": [
    {
     "name": "stderr",
     "output_type": "stream",
     "text": [
      "  0%|          | 0/6 [00:00<?, ?it/s]"
     ]
    },
    {
     "name": "stderr",
     "output_type": "stream",
     "text": [
      "100%|██████████| 6/6 [02:12<00:00, 22.02s/it]\n"
     ]
    }
   ],
   "source": [
    "samples = [\n",
    "    \"G000421_batch1_1\",\n",
    "    \"G000421_batch1_2\",\n",
    "    \"G000421_batch1_3\",\n",
    "    \"G000421_batch1_4\",\n",
    "    \"G000421_batch2_1\",\n",
    "    \"G000421_batch2_2\",\n",
    "]\n",
    "\n",
    "for s in tqdm(samples):\n",
    "    in_path = Path(\"..\") / \"data\" / \"raw\" / s / \"vdj_b\"\n",
    "    out_path = Path(\"..\") / \"data\" / \"vdj_b\" / s\n",
    "    out_path.mkdir(parents=True, exist_ok=True)\n",
    "    shutil.copytree(in_path, out_path, dirs_exist_ok=True)\n",
    "    fasta_path = out_path / \"all_contig.fasta\"\n",
    "    vdj = ddl.read_10x_vdj(out_path, remove_malformed=False)\n",
    "    contigs = dict(vdj.data.sequence)\n",
    "    ddl.utl.write_fasta(fasta_dict=contigs, out_fasta=fasta_path)"
   ]
  },
  {
   "cell_type": "markdown",
   "metadata": {},
   "source": [
    "Once files are ready,\n",
    "\n",
    "pull the singularity image:\n",
    "\n",
    "```bash\n",
    "DANDELIONSINGULARITY=$PATHTODANDELION/dandelion/container/sc-dandelion_latest.sif\n",
    "cd ../data/vdj_b\n",
    "singularity run -B $PWD $DANDELIONSINGULARITY dandelion-preprocess --meta metadata.csv --chain IG --org mouse --flavour strict --keep_trailing_hyphen_number --filter_to_high_confidence --clean_output\n",
    "```"
   ]
  },
  {
   "cell_type": "markdown",
   "metadata": {},
   "source": []
  }
 ],
 "metadata": {
  "kernelspec": {
   "display_name": "dandelion",
   "language": "python",
   "name": "python3"
  },
  "language_info": {
   "codemirror_mode": {
    "name": "ipython",
    "version": 3
   },
   "file_extension": ".py",
   "mimetype": "text/x-python",
   "name": "python",
   "nbconvert_exporter": "python",
   "pygments_lexer": "ipython3",
   "version": "3.11.5"
  },
  "orig_nbformat": 4
 },
 "nbformat": 4,
 "nbformat_minor": 2
}
