{
 "cells": [
  {
   "cell_type": "code",
   "execution_count": 1,
   "metadata": {},
   "outputs": [
    {
     "name": "stderr",
     "output_type": "stream",
     "text": [
      "/var/folders/_r/j_8_fj3x28n2th3ch0ckn9c40000gt/T/ipykernel_30124/4121112680.py:7: DeprecationWarning: The global conversion available with activate() is deprecated and will be removed in the next major release. Use a local converter.\n",
      "  anndata2ri.activate()\n"
     ]
    }
   ],
   "source": [
    "import anndata2ri\n",
    "import scanpy as sc\n",
    "\n",
    "from pathlib import Path\n",
    "\n",
    "anndata2ri.activate()\n",
    "%load_ext rpy2.ipython"
   ]
  },
  {
   "cell_type": "code",
   "execution_count": 2,
   "metadata": {},
   "outputs": [],
   "source": [
    "DATA_PATH = Path(\"..\") / \"data\""
   ]
  },
  {
   "cell_type": "code",
   "execution_count": 6,
   "metadata": {},
   "outputs": [],
   "source": [
    "norm = sc.read_h5ad(DATA_PATH / \"adata_norm_counts_bcr.h5ad\")\n",
    "norm.layers[\"logcounts\"] = norm.X.copy()"
   ]
  },
  {
   "cell_type": "code",
   "execution_count": 7,
   "metadata": {},
   "outputs": [
    {
     "name": "stdout",
     "output_type": "stream",
     "text": [
      "class: SingleCellExperiment \n",
      "dim: 32285 53648 \n",
      "metadata(3): filter_rna_colors hvg log1p\n",
      "assays(2): counts logcounts\n",
      "rownames(32285): Xkr4 Gm1992 ... AC234645.1 AC149090.1\n",
      "rowData names(6): gene_ids feature_types ... dispersions\n",
      "  dispersions_norm\n",
      "colnames(53648): BC1-CD40-72h_AAACCTGAGAAACCGC-1\n",
      "  BC1-CD40-72h_AAACCTGAGACAATAC-1 ... BC2-CpG_TTTGTCATCGTCACGG-1\n",
      "  BC2-CpG_TTTGTCATCTCAACTT-1\n",
      "colData names(129): sample_id_actual culture_id ...\n",
      "  clone_id_separate_bc clone_id_by_size_separate_bc\n",
      "reducedDimNames(2): PCA UMAP\n",
      "mainExpName: NULL\n",
      "altExpNames(0):\n"
     ]
    }
   ],
   "source": [
    "%%R -i norm\n",
    "assays(norm)[[\"X\"]] <- NULL\n",
    "norm"
   ]
  },
  {
   "cell_type": "code",
   "execution_count": 8,
   "metadata": {},
   "outputs": [],
   "source": [
    "%%R\n",
    "saveRDS(norm, file = \"../data/sce_bcr.rds\")"
   ]
  },
  {
   "cell_type": "code",
   "execution_count": 12,
   "metadata": {},
   "outputs": [
    {
     "name": "stdout",
     "output_type": "stream",
     "text": [
      "\n",
      "    WARNING: The R package \"reticulate\" only fixed recently\n",
      "    an issue that caused a segfault when used with rpy2:\n",
      "    https://github.com/rstudio/reticulate/pull/1188\n",
      "    Make sure that you use a version of that package that includes\n",
      "    the fix.\n",
      "    "
     ]
    },
    {
     "data": {
      "text/plain": [
       "The legacy packages maptools, rgdal, and rgeos, underpinning the sp package,\n",
       "which was just loaded, will retire in October 2023.\n",
       "Please refer to R-spatial evolution reports for details, especially\n",
       "https://r-spatial.org/r/2023/05/15/evolution4.html.\n",
       "It may be desirable to make the sf package available;\n",
       "package maintainers should consider adding sf to Suggests:.\n",
       "The sp package is now running under evolution status 2\n",
       "     (status 2 uses the sf package in place of rgdal)\n",
       "Attaching SeuratObject\n",
       "\n",
       "Attaching package: ‘Seurat’\n",
       "\n",
       "The following object is masked from ‘package:SummarizedExperiment’:\n",
       "\n",
       "    Assays\n",
       "\n"
      ]
     },
     "metadata": {},
     "output_type": "display_data"
    }
   ],
   "source": [
    "%%R\n",
    "library(Seurat)"
   ]
  },
  {
   "cell_type": "code",
   "execution_count": 13,
   "metadata": {},
   "outputs": [],
   "source": [
    "%%R\n",
    "seu_norm <- as.Seurat(norm)\n",
    "saveRDS(seu_norm, file = \"../data/seurat_bcr.rds\")"
   ]
  },
  {
   "cell_type": "code",
   "execution_count": 16,
   "metadata": {},
   "outputs": [],
   "source": [
    "# also save this adata to just called adata_bcr.h5ad. this is what will be shared.\n",
    "norm.write_h5ad(DATA_PATH / \"adata_bcr.h5ad\", compression=\"gzip\")"
   ]
  },
  {
   "cell_type": "code",
   "execution_count": null,
   "metadata": {},
   "outputs": [],
   "source": []
  }
 ],
 "metadata": {
  "kernelspec": {
   "display_name": "dandelion",
   "language": "python",
   "name": "python3"
  },
  "language_info": {
   "codemirror_mode": {
    "name": "ipython",
    "version": 3
   },
   "file_extension": ".py",
   "mimetype": "text/x-python",
   "name": "python",
   "nbconvert_exporter": "python",
   "pygments_lexer": "ipython3",
   "version": "3.11.5"
  },
  "orig_nbformat": 4
 },
 "nbformat": 4,
 "nbformat_minor": 2
}
